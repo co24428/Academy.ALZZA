{
 "cells": [
  {
   "cell_type": "code",
   "execution_count": 1,
   "metadata": {},
   "outputs": [],
   "source": [
    "%run abalone.ipynb"
   ]
  },
  {
   "cell_type": "code",
   "execution_count": 2,
   "metadata": {},
   "outputs": [
    {
     "name": "stdout",
     "output_type": "stream",
     "text": [
      "Epoch 1: loss=33.875, accuracy=0.557/0.812\n",
      "Epoch 2: loss=8.226, accuracy=0.820/0.814\n",
      "Epoch 3: loss=7.582, accuracy=0.812/0.809\n",
      "Epoch 4: loss=7.475, accuracy=0.808/0.811\n",
      "Epoch 5: loss=7.395, accuracy=0.810/0.809\n",
      "Epoch 6: loss=7.328, accuracy=0.808/0.810\n",
      "Epoch 7: loss=7.269, accuracy=0.808/0.811\n",
      "Epoch 8: loss=7.217, accuracy=0.808/0.812\n",
      "Epoch 9: loss=7.175, accuracy=0.810/0.810\n",
      "Epoch 10: loss=7.135, accuracy=0.809/0.810\n",
      "\n",
      "Final Test: final accuracy = 0.810\n"
     ]
    }
   ],
   "source": [
    "abalone_exec()"
   ]
  },
  {
   "cell_type": "code",
   "execution_count": 3,
   "metadata": {},
   "outputs": [
    {
     "name": "stdout",
     "output_type": "stream",
     "text": [
      "[[1.02697603]\n",
      " [1.47450981]\n",
      " [1.66960135]\n",
      " [2.04468668]\n",
      " [1.62513525]\n",
      " [0.60292627]\n",
      " [2.39993815]\n",
      " [0.54107313]\n",
      " [0.46878034]\n",
      " [1.01969382]]\n",
      "[4.16894769]\n"
     ]
    }
   ],
   "source": [
    "print(weight)\n",
    "print(bias)"
   ]
  },
  {
   "cell_type": "code",
   "execution_count": 252,
   "metadata": {},
   "outputs": [
    {
     "name": "stdout",
     "output_type": "stream",
     "text": [
      "Epoch 10: loss=6.055, accuracy=0.820/0.827\n",
      "Epoch 20: loss=5.556, accuracy=0.828/0.823\n",
      "Epoch 30: loss=5.290, accuracy=0.833/0.835\n",
      "Epoch 40: loss=5.145, accuracy=0.836/0.826\n",
      "Epoch 50: loss=5.054, accuracy=0.838/0.825\n",
      "Epoch 60: loss=5.029, accuracy=0.838/0.841\n",
      "Epoch 70: loss=5.033, accuracy=0.838/0.846\n",
      "Epoch 80: loss=5.008, accuracy=0.838/0.842\n",
      "Epoch 90: loss=5.025, accuracy=0.837/0.850\n",
      "Epoch 100: loss=4.998, accuracy=0.838/0.846\n",
      "Epoch 110: loss=4.994, accuracy=0.839/0.833\n",
      "Epoch 120: loss=4.980, accuracy=0.839/0.846\n",
      "Epoch 130: loss=4.974, accuracy=0.838/0.838\n",
      "Epoch 140: loss=4.986, accuracy=0.839/0.843\n",
      "Epoch 150: loss=4.990, accuracy=0.838/0.851\n",
      "\n",
      "Final Test: final accuracy = 0.851\n"
     ]
    }
   ],
   "source": [
    "LEARNING_RATE = 0.15 # default = 0.001\n",
    "# default = 10 / 10 / 1\n",
    "abalone_exec(epoch_count=150, mb_size=100, report=10)\n",
    "# 학습률 , 미니배치 크기는 학습에 큰 영향을 주는 하이퍼파라미터이다.\n",
    "\n",
    "# 학습률 => 0.1 내외에서 0.835~0.845까지\n",
    "# => 0.15, 0.855까지\n",
    "# => 0.2, 0.84* 정도 유지\n",
    "\n",
    "# 미니배치 => 속도의 차이..?\n",
    "\n",
    "# => 어떻게 해도 0.85*을 못넘네"
   ]
  },
  {
   "cell_type": "code",
   "execution_count": null,
   "metadata": {},
   "outputs": [],
   "source": []
  }
 ],
 "metadata": {
  "kernelspec": {
   "display_name": "Python 3",
   "language": "python",
   "name": "python3"
  },
  "language_info": {
   "codemirror_mode": {
    "name": "ipython",
    "version": 3
   },
   "file_extension": ".py",
   "mimetype": "text/x-python",
   "name": "python",
   "nbconvert_exporter": "python",
   "pygments_lexer": "ipython3",
   "version": "3.7.4"
  }
 },
 "nbformat": 4,
 "nbformat_minor": 2
}
